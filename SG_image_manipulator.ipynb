{
 "cells": [
  {
   "attachments": {},
   "cell_type": "markdown",
   "metadata": {},
   "source": [
    "THis is a simple image manipulator for C4742-95-10NR\n",
    "Auth: Sabin G 2023.03.13\n",
    "\n",
    "Useful: \n",
    "* https://pypi.org/project/hamamatsu/\n",
    "* https://github.com/tiagocoutinho/hamamatsu\n",
    "\n",
    "\n",
    "Create an env for this then run pip install hamamatsu[lima],\n",
    "pip install ipykernel\n",
    "pip install numpy (for dcam)"
   ]
  },
  {
   "cell_type": "markdown",
   "metadata": {},
   "source": []
  },
  {
   "cell_type": "code",
   "execution_count": 2,
   "metadata": {},
   "outputs": [
    {
     "ename": "AttributeError",
     "evalue": "module 'ctypes' has no attribute 'windll'",
     "output_type": "error",
     "traceback": [
      "\u001b[0;31m---------------------------------------------------------------------------\u001b[0m",
      "\u001b[0;31mAttributeError\u001b[0m                            Traceback (most recent call last)",
      "Cell \u001b[0;32mIn[2], line 2\u001b[0m\n\u001b[1;32m      1\u001b[0m \u001b[39mimport\u001b[39;00m \u001b[39mlogging\u001b[39;00m\n\u001b[0;32m----> 2\u001b[0m \u001b[39mfrom\u001b[39;00m \u001b[39mhamamatsu\u001b[39;00m\u001b[39m.\u001b[39;00m\u001b[39mdcam\u001b[39;00m \u001b[39mimport\u001b[39;00m copy_frame, dcam, Stream\n",
      "File \u001b[0;32m~/.conda/envs/hamamatsu/lib/python3.9/site-packages/hamamatsu/dcam.py:1861\u001b[0m\n\u001b[1;32m   1857\u001b[0m             \u001b[39mself\u001b[39m\u001b[39m.\u001b[39mdcam_uninit()\n\u001b[1;32m   1858\u001b[0m             \u001b[39mself\u001b[39m\u001b[39m.\u001b[39m_state \u001b[39m=\u001b[39m \u001b[39mNone\u001b[39;00m\n\u001b[0;32m-> 1861\u001b[0m dcam \u001b[39m=\u001b[39m DCAM()\n\u001b[1;32m   1864\u001b[0m \u001b[39mdef\u001b[39;00m \u001b[39mgen_acquire\u001b[39m(device, exposure_time\u001b[39m=\u001b[39m\u001b[39m1\u001b[39m, nb_frames\u001b[39m=\u001b[39m\u001b[39m1\u001b[39m):\n\u001b[1;32m   1865\u001b[0m \u001b[39m    \u001b[39m\u001b[39m\"\"\"Simple acquisition example\"\"\"\u001b[39;00m\n",
      "File \u001b[0;32m~/.conda/envs/hamamatsu/lib/python3.9/site-packages/hamamatsu/dcam.py:1790\u001b[0m, in \u001b[0;36mDCAM.__init__\u001b[0;34m(self)\u001b[0m\n\u001b[1;32m   1788\u001b[0m \u001b[39mself\u001b[39m\u001b[39m.\u001b[39m_state \u001b[39m=\u001b[39m \u001b[39mNone\u001b[39;00m\n\u001b[1;32m   1789\u001b[0m \u001b[39mself\u001b[39m\u001b[39m.\u001b[39m_devices \u001b[39m=\u001b[39m weakref\u001b[39m.\u001b[39mWeakValueDictionary()\n\u001b[0;32m-> 1790\u001b[0m \u001b[39mself\u001b[39m\u001b[39m.\u001b[39m_lib \u001b[39m=\u001b[39m ctypes\u001b[39m.\u001b[39;49mwindll\u001b[39m.\u001b[39mdcamapi\n\u001b[1;32m   1791\u001b[0m \u001b[39m# force reference to uninit and close so that when close() is invoked\u001b[39;00m\n\u001b[1;32m   1792\u001b[0m \u001b[39m# by __del__ it doesn't try to inject new members into a dying object\u001b[39;00m\n\u001b[1;32m   1793\u001b[0m \u001b[39mself\u001b[39m\u001b[39m.\u001b[39mdcam_uninit \u001b[39m=\u001b[39m \u001b[39mself\u001b[39m\u001b[39m.\u001b[39m_lib\u001b[39m.\u001b[39mdcam_uninit\n",
      "\u001b[0;31mAttributeError\u001b[0m: module 'ctypes' has no attribute 'windll'"
     ]
    }
   ],
   "source": [
    "import logging\n",
    "from hamamatsu.dcam import copy_frame, dcam, Stream"
   ]
  },
  {
   "cell_type": "code",
   "execution_count": null,
   "metadata": {},
   "outputs": [],
   "source": [
    "logging.basicConfig(level=logging.INFO)\n",
    "\n",
    "with dcam:\n",
    "    camera = dcam[0]\n",
    "    with camera:\n",
    "        print(camera.info)\n",
    "        print(camera['image_width'].value, camera['image_height'].value)\n",
    "\n",
    "        # Simple acquisition example\n",
    "        nb_frames = 10\n",
    "        camera[\"exposure_time\"] = 0.1\n",
    "        with Stream(camera, nb_frames) as stream:\n",
    "                logging.info(\"start acquisition\")\n",
    "                camera.start()\n",
    "                for i, frame_buffer in enumerate(stream):\n",
    "                    frame = copy_frame(frame_buffer)\n",
    "                    logging.info(f\"acquired frame #%d/%d: %s\", i+1, nb_frames, frame)\n",
    "                logging.info(\"finished acquisition\")"
   ]
  }
 ],
 "metadata": {
  "kernelspec": {
   "display_name": "base",
   "language": "python",
   "name": "python3"
  },
  "language_info": {
   "codemirror_mode": {
    "name": "ipython",
    "version": 3
   },
   "file_extension": ".py",
   "mimetype": "text/x-python",
   "name": "python",
   "nbconvert_exporter": "python",
   "pygments_lexer": "ipython3",
   "version": "3.9.16"
  },
  "orig_nbformat": 4
 },
 "nbformat": 4,
 "nbformat_minor": 2
}
