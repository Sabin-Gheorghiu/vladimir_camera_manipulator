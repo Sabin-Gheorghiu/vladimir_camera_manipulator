{
 "cells": [
  {
   "attachments": {},
   "cell_type": "markdown",
   "metadata": {},
   "source": [
    "THis is a simple image manipulator for C4742-95-10NR\n",
    "Auth: Sabin G 2023.03.13\n",
    "\n",
    "Useful: \n",
    "* https://pypi.org/project/hamamatsu/\n",
    "* https://github.com/tiagocoutinho/hamamatsu\n",
    "\n",
    "\n",
    "Create an env for this then run pip install hamamatsu[lima],\n",
    "pip install ipykernel\n",
    "pip install numpy (for dcam)\n",
    "\n",
    "\n",
    "\n",
    "microsoft visual c++14 required....\n",
    "\n",
    "https://dcam-api.com/ - install the API for the dcamapi requirement of DCAM 23.3.6600"
   ]
  },
  {
   "cell_type": "markdown",
   "metadata": {},
   "source": []
  },
  {
   "cell_type": "code",
   "execution_count": 1,
   "metadata": {},
   "outputs": [],
   "source": [
    "def copy_frame(frame, into=None):\n",
    "    pixel_type = EImagePixelType(frame.type)\n",
    "    if into is None:\n",
    "        pixel_bytes = pixel_type.bytes_per_pixel()\n",
    "        nbytes = frame.width * frame.height * pixel_bytes\n",
    "        into = numpy.empty(nbytes, dtype=numpy.uint8)\n",
    "    ctypes.memmove(into.ctypes.data, frame.buf, into.nbytes)\n",
    "    dtype = pixel_type.dtype()\n",
    "    if dtype:\n",
    "        into.dtype = dtype\n",
    "        into.shape = frame.width, frame.height\n",
    "    return into"
   ]
  },
  {
   "cell_type": "code",
   "execution_count": 21,
   "metadata": {},
   "outputs": [
    {
     "ename": "UnicodeDecodeError",
     "evalue": "'utf-8' codec can't decode byte 0x80 in position 6004: invalid start byte",
     "output_type": "error",
     "traceback": [
      "\u001b[1;31m---------------------------------------------------------------------------\u001b[0m",
      "\u001b[1;31mUnicodeDecodeError\u001b[0m                        Traceback (most recent call last)",
      "Cell \u001b[1;32mIn[21], line 14\u001b[0m\n\u001b[0;32m      5\u001b[0m \u001b[39m# with im.open(\"working_img.img\") as working_img:\u001b[39;00m\n\u001b[0;32m      6\u001b[0m \u001b[39m#     working_img.rotate(45).show()\u001b[39;00m\n\u001b[0;32m      7\u001b[0m \n\u001b[0;32m      8\u001b[0m \u001b[39m# image_array  = bytearray( open(\"working_img.img\")) --- this fails when it find 0x80?\u001b[39;00m\n\u001b[0;32m      9\u001b[0m \n\u001b[0;32m     10\u001b[0m \u001b[39m# image_array  = bytes( open(\"working_img.img\"))\u001b[39;00m\n\u001b[0;32m     12\u001b[0m file \u001b[39m=\u001b[39m \u001b[39mopen\u001b[39m(\u001b[39m\"\u001b[39m\u001b[39mworking_img.img\u001b[39m\u001b[39m\"\u001b[39m)\n\u001b[1;32m---> 14\u001b[0m lines \u001b[39m=\u001b[39m file\u001b[39m.\u001b[39;49mreadlines()\n\u001b[0;32m     16\u001b[0m \u001b[39mif\u001b[39;00m \u001b[39m\"\u001b[39m\u001b[39mUserContent\u001b[39m\u001b[39m\"\u001b[39m \u001b[39min\u001b[39;00m lines:\n\u001b[0;32m     17\u001b[0m     \u001b[39mprint\u001b[39m (\u001b[39m\"\u001b[39m\u001b[39mYES\u001b[39m\u001b[39m\"\u001b[39m)\n",
      "File \u001b[1;32mc:\\Users\\sabin\\miniconda3\\envs\\hamamatsu\\lib\\codecs.py:322\u001b[0m, in \u001b[0;36mBufferedIncrementalDecoder.decode\u001b[1;34m(self, input, final)\u001b[0m\n\u001b[0;32m    319\u001b[0m \u001b[39mdef\u001b[39;00m \u001b[39mdecode\u001b[39m(\u001b[39mself\u001b[39m, \u001b[39minput\u001b[39m, final\u001b[39m=\u001b[39m\u001b[39mFalse\u001b[39;00m):\n\u001b[0;32m    320\u001b[0m     \u001b[39m# decode input (taking the buffer into account)\u001b[39;00m\n\u001b[0;32m    321\u001b[0m     data \u001b[39m=\u001b[39m \u001b[39mself\u001b[39m\u001b[39m.\u001b[39mbuffer \u001b[39m+\u001b[39m \u001b[39minput\u001b[39m\n\u001b[1;32m--> 322\u001b[0m     (result, consumed) \u001b[39m=\u001b[39m \u001b[39mself\u001b[39;49m\u001b[39m.\u001b[39;49m_buffer_decode(data, \u001b[39mself\u001b[39;49m\u001b[39m.\u001b[39;49merrors, final)\n\u001b[0;32m    323\u001b[0m     \u001b[39m# keep undecoded input until the next call\u001b[39;00m\n\u001b[0;32m    324\u001b[0m     \u001b[39mself\u001b[39m\u001b[39m.\u001b[39mbuffer \u001b[39m=\u001b[39m data[consumed:]\n",
      "\u001b[1;31mUnicodeDecodeError\u001b[0m: 'utf-8' codec can't decode byte 0x80 in position 6004: invalid start byte"
     ]
    }
   ],
   "source": [
    "from PIL import Image as im\n",
    "import numpy as np\n",
    "from numpy import array\n",
    "\n",
    "# with im.open(\"working_img.img\") as working_img:\n",
    "#     working_img.rotate(45).show()\n",
    "\n",
    "# image_array  = bytearray( open(\"working_img.img\")) --- this fails when it find 0x80?\n",
    "\n",
    "# image_array  = bytes( open(\"working_img.img\"))\n",
    "\n",
    "file = open(\"working_img.img\")\n",
    "\n",
    "lines = file.readlines()\n",
    "\n",
    "if \"UserContent\" in lines:\n",
    "    print (\"YES\")\n",
    "# print( file.seek(\"UserComment\"))\n",
    "\n",
    "\n",
    "# image_form = im.fromarray(image_array)"
   ]
  },
  {
   "cell_type": "code",
   "execution_count": 4,
   "metadata": {},
   "outputs": [],
   "source": [
    "import logging"
   ]
  },
  {
   "cell_type": "code",
   "execution_count": 5,
   "metadata": {},
   "outputs": [
    {
     "ename": "FileNotFoundError",
     "evalue": "Could not find module 'dcamapi' (or one of its dependencies). Try using the full path with constructor syntax.",
     "output_type": "error",
     "traceback": [
      "\u001b[1;31m---------------------------------------------------------------------------\u001b[0m",
      "\u001b[1;31mFileNotFoundError\u001b[0m                         Traceback (most recent call last)",
      "Cell \u001b[1;32mIn[5], line 1\u001b[0m\n\u001b[1;32m----> 1\u001b[0m \u001b[39mfrom\u001b[39;00m \u001b[39mhamamatsu\u001b[39;00m\u001b[39m.\u001b[39;00m\u001b[39mdcam\u001b[39;00m \u001b[39mimport\u001b[39;00m copy_frame, dcam, Stream\n",
      "File \u001b[1;32mc:\\Users\\sabin\\miniconda3\\envs\\hamamatsu\\lib\\site-packages\\hamamatsu\\dcam.py:1861\u001b[0m\n\u001b[0;32m   1857\u001b[0m             \u001b[39mself\u001b[39m\u001b[39m.\u001b[39mdcam_uninit()\n\u001b[0;32m   1858\u001b[0m             \u001b[39mself\u001b[39m\u001b[39m.\u001b[39m_state \u001b[39m=\u001b[39m \u001b[39mNone\u001b[39;00m\n\u001b[1;32m-> 1861\u001b[0m dcam \u001b[39m=\u001b[39m DCAM()\n\u001b[0;32m   1864\u001b[0m \u001b[39mdef\u001b[39;00m \u001b[39mgen_acquire\u001b[39m(device, exposure_time\u001b[39m=\u001b[39m\u001b[39m1\u001b[39m, nb_frames\u001b[39m=\u001b[39m\u001b[39m1\u001b[39m):\n\u001b[0;32m   1865\u001b[0m \u001b[39m    \u001b[39m\u001b[39m\"\"\"Simple acquisition example\"\"\"\u001b[39;00m\n",
      "File \u001b[1;32mc:\\Users\\sabin\\miniconda3\\envs\\hamamatsu\\lib\\site-packages\\hamamatsu\\dcam.py:1790\u001b[0m, in \u001b[0;36mDCAM.__init__\u001b[1;34m(self)\u001b[0m\n\u001b[0;32m   1788\u001b[0m \u001b[39mself\u001b[39m\u001b[39m.\u001b[39m_state \u001b[39m=\u001b[39m \u001b[39mNone\u001b[39;00m\n\u001b[0;32m   1789\u001b[0m \u001b[39mself\u001b[39m\u001b[39m.\u001b[39m_devices \u001b[39m=\u001b[39m weakref\u001b[39m.\u001b[39mWeakValueDictionary()\n\u001b[1;32m-> 1790\u001b[0m \u001b[39mself\u001b[39m\u001b[39m.\u001b[39m_lib \u001b[39m=\u001b[39m ctypes\u001b[39m.\u001b[39;49mwindll\u001b[39m.\u001b[39;49mdcamapi\n\u001b[0;32m   1791\u001b[0m \u001b[39m# force reference to uninit and close so that when close() is invoked\u001b[39;00m\n\u001b[0;32m   1792\u001b[0m \u001b[39m# by __del__ it doesn't try to inject new members into a dying object\u001b[39;00m\n\u001b[0;32m   1793\u001b[0m \u001b[39mself\u001b[39m\u001b[39m.\u001b[39mdcam_uninit \u001b[39m=\u001b[39m \u001b[39mself\u001b[39m\u001b[39m.\u001b[39m_lib\u001b[39m.\u001b[39mdcam_uninit\n",
      "File \u001b[1;32mc:\\Users\\sabin\\miniconda3\\envs\\hamamatsu\\lib\\ctypes\\__init__.py:444\u001b[0m, in \u001b[0;36mLibraryLoader.__getattr__\u001b[1;34m(self, name)\u001b[0m\n\u001b[0;32m    442\u001b[0m \u001b[39mif\u001b[39;00m name[\u001b[39m0\u001b[39m] \u001b[39m==\u001b[39m \u001b[39m'\u001b[39m\u001b[39m_\u001b[39m\u001b[39m'\u001b[39m:\n\u001b[0;32m    443\u001b[0m     \u001b[39mraise\u001b[39;00m \u001b[39mAttributeError\u001b[39;00m(name)\n\u001b[1;32m--> 444\u001b[0m dll \u001b[39m=\u001b[39m \u001b[39mself\u001b[39;49m\u001b[39m.\u001b[39;49m_dlltype(name)\n\u001b[0;32m    445\u001b[0m \u001b[39msetattr\u001b[39m(\u001b[39mself\u001b[39m, name, dll)\n\u001b[0;32m    446\u001b[0m \u001b[39mreturn\u001b[39;00m dll\n",
      "File \u001b[1;32mc:\\Users\\sabin\\miniconda3\\envs\\hamamatsu\\lib\\ctypes\\__init__.py:374\u001b[0m, in \u001b[0;36mCDLL.__init__\u001b[1;34m(self, name, mode, handle, use_errno, use_last_error, winmode)\u001b[0m\n\u001b[0;32m    371\u001b[0m \u001b[39mself\u001b[39m\u001b[39m.\u001b[39m_FuncPtr \u001b[39m=\u001b[39m _FuncPtr\n\u001b[0;32m    373\u001b[0m \u001b[39mif\u001b[39;00m handle \u001b[39mis\u001b[39;00m \u001b[39mNone\u001b[39;00m:\n\u001b[1;32m--> 374\u001b[0m     \u001b[39mself\u001b[39m\u001b[39m.\u001b[39m_handle \u001b[39m=\u001b[39m _dlopen(\u001b[39mself\u001b[39;49m\u001b[39m.\u001b[39;49m_name, mode)\n\u001b[0;32m    375\u001b[0m \u001b[39melse\u001b[39;00m:\n\u001b[0;32m    376\u001b[0m     \u001b[39mself\u001b[39m\u001b[39m.\u001b[39m_handle \u001b[39m=\u001b[39m handle\n",
      "\u001b[1;31mFileNotFoundError\u001b[0m: Could not find module 'dcamapi' (or one of its dependencies). Try using the full path with constructor syntax."
     ]
    }
   ],
   "source": [
    "from hamamatsu.dcam import copy_frame, dcam, Stream"
   ]
  },
  {
   "cell_type": "code",
   "execution_count": 3,
   "metadata": {},
   "outputs": [
    {
     "ename": "NameError",
     "evalue": "name 'dcam' is not defined",
     "output_type": "error",
     "traceback": [
      "\u001b[1;31m---------------------------------------------------------------------------\u001b[0m",
      "\u001b[1;31mNameError\u001b[0m                                 Traceback (most recent call last)",
      "Cell \u001b[1;32mIn[3], line 3\u001b[0m\n\u001b[0;32m      1\u001b[0m logging\u001b[39m.\u001b[39mbasicConfig(level\u001b[39m=\u001b[39mlogging\u001b[39m.\u001b[39mINFO)\n\u001b[1;32m----> 3\u001b[0m \u001b[39mwith\u001b[39;00m dcam:\n\u001b[0;32m      4\u001b[0m     camera \u001b[39m=\u001b[39m dcam[\u001b[39m0\u001b[39m]\n\u001b[0;32m      5\u001b[0m     \u001b[39mwith\u001b[39;00m camera:\n",
      "\u001b[1;31mNameError\u001b[0m: name 'dcam' is not defined"
     ]
    }
   ],
   "source": [
    "logging.basicConfig(level=logging.INFO)\n",
    "\n",
    "with dcam:\n",
    "    camera = dcam[0]\n",
    "    with camera:\n",
    "        print(camera.info)\n",
    "        print(camera['image_width'].value, camera['image_height'].value)\n",
    "\n",
    "        # Simple acquisition example\n",
    "        nb_frames = 10\n",
    "        camera[\"exposure_time\"] = 0.1\n",
    "        with Stream(camera, nb_frames) as stream:\n",
    "                logging.info(\"start acquisition\")\n",
    "                camera.start()\n",
    "                for i, frame_buffer in enumerate(stream):\n",
    "                    frame = copy_frame(frame_buffer)\n",
    "                    logging.info(f\"acquired frame #%d/%d: %s\", i+1, nb_frames, frame)\n",
    "                logging.info(\"finished acquisition\")"
   ]
  }
 ],
 "metadata": {
  "kernelspec": {
   "display_name": "base",
   "language": "python",
   "name": "python3"
  },
  "language_info": {
   "codemirror_mode": {
    "name": "ipython",
    "version": 3
   },
   "file_extension": ".py",
   "mimetype": "text/x-python",
   "name": "python",
   "nbconvert_exporter": "python",
   "pygments_lexer": "ipython3",
   "version": "3.9.16"
  },
  "orig_nbformat": 4
 },
 "nbformat": 4,
 "nbformat_minor": 2
}
